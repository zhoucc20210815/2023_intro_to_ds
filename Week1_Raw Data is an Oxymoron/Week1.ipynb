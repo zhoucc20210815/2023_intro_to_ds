{
 "cells": [
  {
   "cell_type": "markdown",
   "metadata": {},
   "source": [
    "# Introduction to Data Science - Week 1 Raw Data is an Oxymoron"
   ]
  },
  {
   "cell_type": "code",
   "execution_count": 15,
   "metadata": {},
   "outputs": [],
   "source": [
    "import pandas as pd\n",
    "import matplotlib.pyplot as plt"
   ]
  },
  {
   "cell_type": "markdown",
   "metadata": {},
   "source": [
    "## Dataset"
   ]
  },
  {
   "cell_type": "markdown",
   "metadata": {},
   "source": [
    "The training dataset for this week comes from [Box Office Performance of Movies with Female Leads](https://www.kaggle.com/datasets/thedevastator/box-office-performance-of-movies-with-female-lea). This dataset explores the impact of gender on box office success. It looks at data from films released between 1970 and 2013, including their budgets, domestic and international gross earnings, and their pass/fail status on the Bechdel Test - a benchmark measuring gender biases in movies.\n",
    "\n",
    "The dataset gives us an opportunity to investigate how men and women are portrayed in films over time, explore gendered earning gaps in Hollywood, answer questions about movie trends through the decades such as whether or not films with strong female roles outgross those without them when adjusted for inflation. "
   ]
  },
  {
   "cell_type": "code",
   "execution_count": 16,
   "metadata": {},
   "outputs": [],
   "source": [
    "# Read in data\n",
    "df = pd.read_csv(\"../data/movies.csv\")"
   ]
  },
  {
   "cell_type": "code",
   "execution_count": 17,
   "metadata": {},
   "outputs": [
    {
     "data": {
      "text/plain": [
       "Index(['index', 'year', 'imdb', 'title', 'test', 'clean_test', 'binary',\n",
       "       'budget', 'domgross', 'intgross', 'code', 'budget_2013$',\n",
       "       'domgross_2013$', 'intgross_2013$', 'period code', 'decade code'],\n",
       "      dtype='object')"
      ]
     },
     "execution_count": 17,
     "metadata": {},
     "output_type": "execute_result"
    }
   ],
   "source": [
    "df.columns"
   ]
  },
  {
   "cell_type": "code",
   "execution_count": 18,
   "metadata": {},
   "outputs": [
    {
     "data": {
      "text/plain": [
       "index               int64\n",
       "year                int64\n",
       "imdb               object\n",
       "title              object\n",
       "test               object\n",
       "clean_test         object\n",
       "binary             object\n",
       "budget              int64\n",
       "domgross          float64\n",
       "intgross          float64\n",
       "code               object\n",
       "budget_2013$        int64\n",
       "domgross_2013$    float64\n",
       "intgross_2013$    float64\n",
       "period code       float64\n",
       "decade code       float64\n",
       "dtype: object"
      ]
     },
     "execution_count": 18,
     "metadata": {},
     "output_type": "execute_result"
    }
   ],
   "source": [
    "df.dtypes"
   ]
  },
  {
   "cell_type": "markdown",
   "metadata": {},
   "source": [
    "- `year`: Year the movie was released.\n",
    "- `imdb`: IMDB rating of the movie.\n",
    "- `title`: Title of the movie.\n",
    "- `test`: Whether or not the movie passed the Bechdel Test.\n",
    "- `clean_test`: Whether or not the movie passed the Bechdel Test without any caveats.\n",
    "- `binary`: Whether or not the movie passed the Bechdel Test.\n",
    "- `budget`: Budget of the movie in millions.\n",
    "- `domgross`: Domestic gross of the movie in millions.\n",
    "- `intgross`: International gross of the movie in millions.\n",
    "- `code`: Genre code of the movie.\n",
    "- `budget_2013$`: Budget of the movie in 2013 dollars.\n",
    "- `domgross_2013$`: Domestic gross of the movie in 2013 dollars.\n",
    "- `intgross_2013$`: International gross of the movie in 2013 dollars.\n",
    "- `period code`: Period code of the movie.\n",
    "- `decade code`: Decade code of the movie."
   ]
  },
  {
   "cell_type": "code",
   "execution_count": 19,
   "metadata": {},
   "outputs": [
    {
     "data": {
      "text/plain": [
       "count     1794\n",
       "unique       2\n",
       "top       FAIL\n",
       "freq       991\n",
       "Name: binary, dtype: object"
      ]
     },
     "execution_count": 19,
     "metadata": {},
     "output_type": "execute_result"
    }
   ],
   "source": [
    "df[\"binary\"].describe()"
   ]
  },
  {
   "cell_type": "markdown",
   "metadata": {},
   "source": [
    "## How do high rated movies perform in the Bechdel test ?"
   ]
  },
  {
   "cell_type": "code",
   "execution_count": 20,
   "metadata": {},
   "outputs": [],
   "source": [
    "# imdb like \"tt678990\", so I need to change them into float\n",
    "df[\"imdb\"] = df[\"imdb\"].astype(str)\n",
    "df[\"imdb\"] = df[\"imdb\"].str[2:].astype(float)"
   ]
  },
  {
   "cell_type": "code",
   "execution_count": 22,
   "metadata": {},
   "outputs": [
    {
     "name": "stdout",
     "output_type": "stream",
     "text": [
      "Top 10 movies by IMDB rating:\n",
      "                  title binary       imdb\n",
      "29               Gloria   PASS  2425486.0\n",
      "76             The Heat   PASS  2404463.0\n",
      "71           The Family   FAIL  2404311.0\n",
      "58        Runner Runner   FAIL  2364841.0\n",
      "98     White House Down   FAIL  2334879.0\n",
      "13         Blue Jasmine   PASS  2334873.0\n",
      "47   Olympus Has Fallen   FAIL  2302755.0\n",
      "26               Frozen   PASS  2294629.0\n",
      "117            Hannibal   PASS  2243973.0\n",
      "81       The Internship   FAIL  2234155.0\n"
     ]
    }
   ],
   "source": [
    "# top 10 IMDB\n",
    "top_imdb_movies = df.sort_values(by=\"imdb\", ascending=False).head(10)\n",
    "print(\"Top 10 movies by IMDB rating:\")\n",
    "print(top_imdb_movies[[\"title\",\"binary\",\"imdb\"]])\n"
   ]
  },
  {
   "cell_type": "markdown",
   "metadata": {},
   "source": [
    "This part is written by ChatGPT."
   ]
  },
  {
   "cell_type": "code",
   "execution_count": 26,
   "metadata": {},
   "outputs": [
    {
     "data": {
      "image/png": "[encoded data removed]",
      "text/plain": [
       "<Figure size 640x480 with 1 Axes>"
      ]
     },
     "metadata": {},
     "output_type": "display_data"
    },
    {
     "data": {
      "image/png": "[encoded data removed]",
      "text/plain": [
       "<Figure size 640x480 with 1 Axes>"
      ]
     },
     "metadata": {},
     "output_type": "display_data"
    }
   ],
   "source": [
    "labels = ['Pass', 'Fail']\n",
    "median_imdb = df['imdb'].median()\n",
    "mean_imdb = df['imdb'].mean()\n",
    "\n",
    "# Calculate the number of movies above median\n",
    "above_median = df[df['imdb'] > median_imdb]\n",
    "\n",
    "# Calculate the number of movies above mean\n",
    "above_mean = df[df['imdb'] > mean_imdb]\n",
    "\n",
    "# Calculate the number of movies passing and failing the test above median\n",
    "pass_count_median = above_median[above_median['binary'] == 'PASS']['binary'].count()\n",
    "fail_count_median = above_median[above_median['binary'] == 'FAIL']['binary'].count()\n",
    "\n",
    "# Calculate the number of movies passing and failing the test above mean\n",
    "pass_count_mean = above_mean[above_mean['binary'] == 'PASS']['binary'].count()\n",
    "fail_count_mean = above_mean[above_mean['binary'] == 'FAIL']['binary'].count()\n",
    "\n",
    "fig, ax1 = plt.subplots()\n",
    "ax1.bar(labels, [pass_count_median, fail_count_median], color=['green', 'red'])\n",
    "ax1.set_xlabel(\"Test Result\")\n",
    "ax1.set_ylabel(\"Number of Movies\")\n",
    "ax1.set_title(\"Number of Movies Passing and Failing the Test (Above Median)\")\n",
    "\n",
    "fig, ax2 = plt.subplots()\n",
    "ax2.bar(labels, [pass_count_mean, fail_count_mean], color=['green', 'red'])\n",
    "ax2.set_xlabel(\"Test Result\")\n",
    "ax2.set_ylabel(\"Number of Movies\")\n",
    "ax2.set_title(\"Number of Movies Passing and Failing the Test (Above Mean)\")\n",
    "\n",
    "plt.show()"
   ]
  },
  {
   "cell_type": "markdown",
   "metadata": {},
   "source": [
    "## How do high grossing movies perform in the Bechdel test ?"
   ]
  },
  {
   "cell_type": "code",
   "execution_count": 27,
   "metadata": {},
   "outputs": [
    {
     "name": "stdout",
     "output_type": "stream",
     "text": [
      "Top 10 movies by budget:\n",
      "                                            title binary     budget\n",
      "454                                        Avatar   FAIL  425000000\n",
      "705  Pirates of the Caribbean: At World&#39;s End   PASS  300000000\n",
      "158                         The Dark Knight Rises   FAIL  275000000\n",
      "83                                The Lone Ranger   FAIL  275000000\n",
      "121                                   John Carter   PASS  275000000\n",
      "393                                       Tangled   PASS  260000000\n",
      "77            The Hobbit: The Desolation of Smaug   FAIL  250000000\n",
      "163             The Hobbit: An Unexpected Journey   FAIL  250000000\n",
      "256   Pirates of the Caribbean: On Stranger Tides   FAIL  250000000\n",
      "484        Harry Potter and the Half-Blood Prince   PASS  250000000\n"
     ]
    }
   ],
   "source": [
    "top_budget_movies = df.sort_values(by='budget', ascending=False).head(10)\n",
    "print(\"Top 10 movies by budget:\")\n",
    "print(top_budget_movies[['title','binary','budget']])"
   ]
  },
  {
   "cell_type": "code",
   "execution_count": 28,
   "metadata": {},
   "outputs": [
    {
     "name": "stdout",
     "output_type": "stream",
     "text": [
      "Top 10 movies by international gross:\n",
      "                                               title binary      intgross\n",
      "454                                           Avatar   FAIL  2.783919e+09\n",
      "1445                                         Titanic   PASS  2.185672e+09\n",
      "219     Harry Potter and the Deathly Hallows: Part 2   FAIL  1.328111e+09\n",
      "36                                        Iron Man 3   FAIL  1.212692e+09\n",
      "1060   The Lord of the Rings: The Return of the King   FAIL  1.141409e+09\n",
      "299                   Transformers: Dark of the Moon   PASS  1.123794e+09\n",
      "148                                          Skyfall   FAIL  1.108694e+09\n",
      "158                            The Dark Knight Rises   FAIL  1.079344e+09\n",
      "424                                      Toy Story 3   FAIL  1.063759e+09\n",
      "782   Pirates of the Caribbean: Dead Man&#39;s Chest   FAIL  1.060616e+09\n"
     ]
    }
   ],
   "source": [
    "top_grossing_movies = df.sort_values(by='intgross', ascending=False).head(10)\n",
    "print(\"Top 10 movies by international gross:\")\n",
    "print(top_grossing_movies[['title','binary','intgross']])"
   ]
  },
  {
   "cell_type": "code",
   "execution_count": 29,
   "metadata": {},
   "outputs": [
    {
     "name": "stdout",
     "output_type": "stream",
     "text": [
      "Top 10 movies by domestic gross:\n",
      "                                               title binary     domgross\n",
      "454                                           Avatar   FAIL  760507625.0\n",
      "1445                                         Titanic   PASS  658672302.0\n",
      "634                                  The Dark Knight   FAIL  533345358.0\n",
      "1315       Star Wars: Episode I - The Phantom Menace   PASS  474544677.0\n",
      "1759                                       Star Wars   FAIL  460998007.0\n",
      "158                            The Dark Knight Rises   FAIL  448139099.0\n",
      "980                                          Shrek 2   PASS  441226247.0\n",
      "1707                     E.T.: The Extra-Terrestrial   FAIL  435110554.0\n",
      "79                   The Hunger Games: Catching Fire   PASS  424088260.0\n",
      "782   Pirates of the Caribbean: Dead Man&#39;s Chest   FAIL  423315812.0\n"
     ]
    }
   ],
   "source": [
    "top_domgrossing_movies = df.sort_values(by='domgross', ascending=False).head(10)\n",
    "print(\"Top 10 movies by domestic gross:\")\n",
    "print(top_domgrossing_movies[['title','binary','domgross']])"
   ]
  },
  {
   "cell_type": "markdown",
   "metadata": {},
   "source": [
    "## How do high net income movies perform in the Bechdel test ?"
   ]
  },
  {
   "cell_type": "code",
   "execution_count": 30,
   "metadata": {},
   "outputs": [],
   "source": [
    "df['net_income'] = df['intgross'] - df['budget']"
   ]
  },
  {
   "cell_type": "code",
   "execution_count": 32,
   "metadata": {},
   "outputs": [
    {
     "name": "stdout",
     "output_type": "stream",
     "text": [
      "Top 10 movies by net income:\n",
      "                                              title binary    net_income\n",
      "454                                          Avatar   FAIL  2.358919e+09\n",
      "1445                                        Titanic   PASS  1.985672e+09\n",
      "219    Harry Potter and the Deathly Hallows: Part 2   FAIL  1.203111e+09\n",
      "1060  The Lord of the Rings: The Return of the King   FAIL  1.047409e+09\n",
      "36                                       Iron Man 3   FAIL  1.012692e+09\n",
      "1557                                  Jurassic Park   PASS  9.726269e+08\n",
      "299                  Transformers: Dark of the Moon   PASS  9.287941e+08\n",
      "148                                         Skyfall   FAIL  9.086941e+08\n",
      "17                                  Despicable Me 2   PASS  8.947660e+08\n",
      "1315      Star Wars: Episode I - The Phantom Menace   PASS  8.920447e+08\n"
     ]
    }
   ],
   "source": [
    "top_net_income_movies = df.sort_values(by='net_income', ascending=False).head(10)\n",
    "print(\"Top 10 movies by net income:\")\n",
    "print(top_net_income_movies[['title','binary','net_income']])"
   ]
  },
  {
   "cell_type": "code",
   "execution_count": 33,
   "metadata": {},
   "outputs": [],
   "source": [
    "df['net_income_ratio'] = (df['net_income'] / df['budget']) "
   ]
  },
  {
   "cell_type": "code",
   "execution_count": 34,
   "metadata": {},
   "outputs": [
    {
     "name": "stdout",
     "output_type": "stream",
     "text": [
      "Top 10 movies by net income ratio:\n",
      "                              title binary  net_income_ratio\n",
      "703             Paranormal Activity   FAIL        430.517853\n",
      "1319        The Blair Witch Project   PASS        412.833333\n",
      "1575                    El Mariachi   FAIL        290.704000\n",
      "1764                          Rocky   FAIL        224.000000\n",
      "1777   The Texas Chain Saw Massacre   FAIL        188.803136\n",
      "1778           The Towering Inferno   FAIL        188.803136\n",
      "1780              American Graffiti   FAIL        179.180180\n",
      "1527                        Clerks.   FAIL        143.231111\n",
      "778                            Once   FAIL        125.647827\n",
      "1772  The Rocky Horror Picture Show   FAIL        115.563681\n"
     ]
    }
   ],
   "source": [
    "top_net_income_ratio_movies = df.sort_values(by='net_income_ratio', ascending=False).head(10)\n",
    "print(\"Top 10 movies by net income ratio:\")\n",
    "print(top_net_income_ratio_movies[['title','binary','net_income_ratio']])"
   ]
  },
  {
   "cell_type": "markdown",
   "metadata": {},
   "source": [
    "## Is the data changing from 1990 to 2013?"
   ]
  },
  {
   "cell_type": "markdown",
   "metadata": {},
   "source": [
    "This part is written by ChatGPT."
   ]
  },
  {
   "cell_type": "code",
   "execution_count": 37,
   "metadata": {},
   "outputs": [],
   "source": [
    "grouped = df.groupby('decade code')\n",
    "\n",
    "df_2010_after = grouped.get_group(1)\n",
    "df_2000_2010 = grouped.get_group(2)\n",
    "df_1990_2000 = grouped.get_group(3)"
   ]
  },
  {
   "cell_type": "code",
   "execution_count": 39,
   "metadata": {},
   "outputs": [
    {
     "name": "stdout",
     "output_type": "stream",
     "text": [
      "Number and percentage of movies passing the test after 2010:\n",
      "Number of movies passing the test:  197\n",
      "Percentage of movies passing the test:  44.97716894977169 %\n",
      "Number of movies failing the test:  241\n",
      "Percentage of movies failing the test:  55.02283105022832 %\n"
     ]
    }
   ],
   "source": [
    "# For movies released after 2010\n",
    "pass_count_2010_after = df_2010_after['binary'].value_counts()['PASS']\n",
    "fail_count_2010_after = df_2010_after['binary'].value_counts()['FAIL']\n",
    "\n",
    "total_count_2010_after = pass_count_2010_after + fail_count_2010_after\n",
    "\n",
    "pass_percentage_2010_after = (pass_count_2010_after / total_count_2010_after) * 100\n",
    "fail_percentage_2010_after = (fail_count_2010_after / total_count_2010_after) * 100\n",
    "\n",
    "print(\"Number and percentage of movies passing the test after 2010:\")\n",
    "print(\"Number of movies passing the test: \", pass_count_2010_after)\n",
    "print(\"Percentage of movies passing the test: \", pass_percentage_2010_after, \"%\")\n",
    "print(\"Number of movies failing the test: \", fail_count_2010_after)\n",
    "print(\"Percentage of movies failing the test: \", fail_percentage_2010_after, \"%\")"
   ]
  },
  {
   "cell_type": "code",
   "execution_count": 40,
   "metadata": {},
   "outputs": [
    {
     "name": "stdout",
     "output_type": "stream",
     "text": [
      "Number and percentage of movies passing the test between 2000 and 2010:\n",
      "Number of movies passing the test:  409\n",
      "Percentage of movies passing the test:  48.69047619047619 %\n",
      "Number of movies failing the test:  431\n",
      "Percentage of movies failing the test:  51.3095238095238 %\n"
     ]
    }
   ],
   "source": [
    "# For movies released between 2000 and 2010\n",
    "pass_count_2000_2010 = df_2000_2010['binary'].value_counts()['PASS']\n",
    "fail_count_2000_2010 = df_2000_2010['binary'].value_counts()['FAIL']\n",
    "\n",
    "total_count_2000_2010 = pass_count_2000_2010 + fail_count_2000_2010\n",
    "\n",
    "pass_percentage_2000_2010 = (pass_count_2000_2010 / total_count_2000_2010) * 100\n",
    "fail_percentage_2000_2010 = (fail_count_2000_2010 / total_count_2000_2010) * 100\n",
    "\n",
    "print(\"Number and percentage of movies passing the test between 2000 and 2010:\")\n",
    "print(\"Number of movies passing the test: \", pass_count_2000_2010)\n",
    "print(\"Percentage of movies passing the test: \", pass_percentage_2000_2010, \"%\")\n",
    "print(\"Number of movies failing the test: \", fail_count_2000_2010)\n",
    "print(\"Percentage of movies failing the test: \", fail_percentage_2000_2010, \"%\")"
   ]
  },
  {
   "cell_type": "code",
   "execution_count": 41,
   "metadata": {},
   "outputs": [
    {
     "name": "stdout",
     "output_type": "stream",
     "text": [
      "Number and percentage of movies passing the test between 1990 and 2000:\n",
      "Number of movies passing the test:  147\n",
      "Percentage of movies passing the test:  43.62017804154303 %\n",
      "Number of movies failing the test:  190\n",
      "Percentage of movies failing the test:  56.37982195845698 %\n"
     ]
    }
   ],
   "source": [
    "# For movies released between 1990 and 2000\n",
    "pass_count_1990_2000 = df_1990_2000['binary'].value_counts()['PASS']\n",
    "fail_count_1990_2000 = df_1990_2000['binary'].value_counts()['FAIL']\n",
    "\n",
    "total_count_1990_2000 = pass_count_1990_2000 + fail_count_1990_2000\n",
    "\n",
    "pass_percentage_1990_2000 = (pass_count_1990_2000 / total_count_1990_2000) * 100\n",
    "fail_percentage_1990_2000 = (fail_count_1990_2000 / total_count_1990_2000) * 100\n",
    "\n",
    "print(\"Number and percentage of movies passing the test between 1990 and 2000:\")\n",
    "print(\"Number of movies passing the test: \", pass_count_1990_2000)\n",
    "print(\"Percentage of movies passing the test: \", pass_percentage_1990_2000, \"%\")\n",
    "print(\"Number of movies failing the test: \", fail_count_1990_2000)\n",
    "print(\"Percentage of movies failing the test: \", fail_percentage_1990_2000, \"%\")"
   ]
  },
  {
   "cell_type": "code",
   "execution_count": 42,
   "metadata": {},
   "outputs": [],
   "source": [
    "# For movies passing the test after 2010\n",
    "pass_movies_after_2010 = df_2010_after[df_2010_after['binary'] == 'PASS']\n",
    "pass_median_box_office_after_2010 = pass_movies_after_2010['intgross'].median()\n",
    "pass_mean_box_office_after_2010 = pass_movies_after_2010['intgross'].mean()\n",
    "pass_median_imdb_after_2010 = pass_movies_after_2010['imdb'].median()\n",
    "pass_mean_imdb_after_2010 = pass_movies_after_2010['imdb'].mean()\n",
    "\n",
    "# For movies passing the test between 2000 and 2010\n",
    "pass_movies_2000_2010 = df_2000_2010[df_2000_2010['binary'] == 'PASS']\n",
    "pass_median_box_office_2000_2010 = pass_movies_2000_2010['intgross'].median()\n",
    "pass_mean_box_office_2000_2010 = pass_movies_2000_2010['intgross'].mean()\n",
    "pass_median_imdb_2000_2010 = pass_movies_2000_2010['imdb'].median()\n",
    "pass_mean_imdb_2000_2010 = pass_movies_2000_2010['imdb'].mean()\n",
    "\n",
    "# For movies passing the test between 1990 and 2000\n",
    "pass_movies_1990_2000 = df_1990_2000[df_1990_2000['binary'] == 'PASS']\n",
    "pass_median_box_office_1990_2000 = pass_movies_1990_2000['intgross'].median()\n",
    "pass_mean_box_office_1990_2000 = pass_movies_1990_2000['intgross'].mean()\n",
    "pass_median_imdb_1990_2000 = pass_movies_1990_2000['imdb'].median()\n",
    "pass_mean_imdb_1990_2000 = pass_movies_1990_2000['imdb'].mean()"
   ]
  },
  {
   "cell_type": "code",
   "execution_count": 43,
   "metadata": {},
   "outputs": [
    {
     "name": "stdout",
     "output_type": "stream",
     "text": [
      "Movies passing the test after 2010:\n",
      "Number of movies passing the test: 197\n",
      "Median box office earnings: 40176042.0\n",
      "Mean box office earnings: 77063145.10309279\n",
      "Median IMDB rating: 1431181.0\n",
      "Mean IMDB rating: 1422594.2487309645\n",
      "\n",
      "Movies passing the test between 2000 and 2010:\n",
      "Number of movies passing the test: 409\n",
      "Median box office earnings: 43408033.0\n",
      "Mean box office earnings: 67512361.03473945\n",
      "Median IMDB rating: 382189.0\n",
      "Mean IMDB rating: 464241.60635696823\n",
      "\n",
      "Movies passing the test between 1990 and 2000:\n",
      "Number of movies passing the test: 147\n",
      "Median box office earnings: 61055139.0\n",
      "Mean box office earnings: 99474111.80272108\n",
      "Median IMDB rating: 118661.0\n",
      "Mean IMDB rating: 122565.68027210885\n"
     ]
    }
   ],
   "source": [
    "print(\"Movies passing the test after 2010:\")\n",
    "print(\"Number of movies passing the test:\", pass_movies_after_2010.shape[0])\n",
    "print(\"Median box office earnings:\", pass_median_box_office_after_2010)\n",
    "print(\"Mean box office earnings:\", pass_mean_box_office_after_2010)\n",
    "print(\"Median IMDB rating:\", pass_median_imdb_after_2010)\n",
    "print(\"Mean IMDB rating:\", pass_mean_imdb_after_2010)\n",
    "\n",
    "print(\"\\nMovies passing the test between 2000 and 2010:\")\n",
    "print(\"Number of movies passing the test:\", pass_movies_2000_2010.shape[0])\n",
    "print(\"Median box office earnings:\", pass_median_box_office_2000_2010)\n",
    "print(\"Mean box office earnings:\", pass_mean_box_office_2000_2010)\n",
    "print(\"Median IMDB rating:\", pass_median_imdb_2000_2010)\n",
    "print(\"Mean IMDB rating:\", pass_mean_imdb_2000_2010)\n",
    "\n",
    "print(\"\\nMovies passing the test between 1990 and 2000:\")\n",
    "print(\"Number of movies passing the test:\", pass_movies_1990_2000.shape[0])\n",
    "print(\"Median box office earnings:\", pass_median_box_office_1990_2000)\n",
    "print(\"Mean box office earnings:\", pass_mean_box_office_1990_2000)\n",
    "print(\"Median IMDB rating:\", pass_median_imdb_1990_2000)\n",
    "print(\"Mean IMDB rating:\", pass_mean_imdb_1990_2000)"
   ]
  },
  {
   "cell_type": "code",
   "execution_count": 44,
   "metadata": {},
   "outputs": [],
   "source": [
    "# For movies failing the test after 2010\n",
    "fail_movies_after_2010 = df_2010_after[df_2010_after['binary'] == 'FAIL']\n",
    "fail_median_box_office_after_2010 = fail_movies_after_2010['intgross'].median()\n",
    "fail_mean_box_office_after_2010 = fail_movies_after_2010['intgross'].mean()\n",
    "fail_median_imdb_after_2010 = fail_movies_after_2010['imdb'].median()\n",
    "fail_mean_imdb_after_2010 = fail_movies_after_2010['imdb'].mean()\n",
    "\n",
    "# For movies failing the test between 2000 and 2010\n",
    "fail_movies_2000_2010 = df_2000_2010[df_2000_2010['binary'] == 'FAIL']\n",
    "fail_median_box_office_2000_2010 = fail_movies_2000_2010['intgross'].median()\n",
    "fail_mean_box_office_2000_2010 = fail_movies_2000_2010['intgross'].mean()\n",
    "fail_median_imdb_2000_2010 = fail_movies_2000_2010['imdb'].median()\n",
    "fail_mean_imdb_2000_2010 = fail_movies_2000_2010['imdb'].mean()\n",
    "\n",
    "# For movies failing the test between 1990 and 2000\n",
    "fail_movies_1990_2000 = df_1990_2000[df_1990_2000['binary'] == 'FAIL']\n",
    "fail_median_box_office_1990_2000 = fail_movies_1990_2000['intgross'].median()\n",
    "fail_mean_box_office_1990_2000 = fail_movies_1990_2000['intgross'].mean()\n",
    "fail_median_imdb_1990_2000 = fail_movies_1990_2000['imdb'].median()\n",
    "fail_mean_imdb_1990_2000 = fail_movies_1990_2000['imdb'].mean()"
   ]
  },
  {
   "cell_type": "code",
   "execution_count": 45,
   "metadata": {},
   "outputs": [
    {
     "name": "stdout",
     "output_type": "stream",
     "text": [
      "Movies failing the test after 2010:\n",
      "Number of movies failing the test: 241\n",
      "Median box office earnings: 109666692.5\n",
      "Mean box office earnings: 195819944.20833334\n",
      "Median IMDB rating: 1351685.0\n",
      "Mean IMDB rating: 1349184.763485477\n",
      "\n",
      "Movies failing the test between 2000 and 2010:\n",
      "Number of movies failing the test: 431\n",
      "Median box office earnings: 83792062.0\n",
      "Mean box office earnings: 168530626.8065268\n",
      "Median IMDB rating: 386140.0\n",
      "Mean IMDB rating: 509883.8143851508\n",
      "\n",
      "Movies failing the test between 1990 and 2000:\n",
      "Number of movies failing the test: 190\n",
      "Median box office earnings: 67235581.0\n",
      "Mean box office earnings: 146061430.7\n",
      "Median IMDB rating: 117858.0\n",
      "Mean IMDB rating: 121198.56842105264\n"
     ]
    }
   ],
   "source": [
    "print(\"Movies failing the test after 2010:\")\n",
    "print(\"Number of movies failing the test:\", fail_movies_after_2010.shape[0])\n",
    "print(\"Median box office earnings:\", fail_median_box_office_after_2010)\n",
    "print(\"Mean box office earnings:\", fail_mean_box_office_after_2010)\n",
    "print(\"Median IMDB rating:\", fail_median_imdb_after_2010)\n",
    "print(\"Mean IMDB rating:\", fail_mean_imdb_after_2010)\n",
    "\n",
    "print(\"\\nMovies failing the test between 2000 and 2010:\")\n",
    "print(\"Number of movies failing the test:\", fail_movies_2000_2010.shape[0])\n",
    "print(\"Median box office earnings:\", fail_median_box_office_2000_2010)\n",
    "print(\"Mean box office earnings:\", fail_mean_box_office_2000_2010)\n",
    "print(\"Median IMDB rating:\", fail_median_imdb_2000_2010)\n",
    "print(\"Mean IMDB rating:\", fail_mean_imdb_2000_2010)\n",
    "\n",
    "print(\"\\nMovies failing the test between 1990 and 2000:\")\n",
    "print(\"Number of movies failing the test:\", fail_movies_1990_2000.shape[0])\n",
    "print(\"Median box office earnings:\", fail_median_box_office_1990_2000)\n",
    "print(\"Mean box office earnings:\", fail_mean_box_office_1990_2000)\n",
    "print(\"Median IMDB rating:\", fail_median_imdb_1990_2000)\n",
    "print(\"Mean IMDB rating:\", fail_mean_imdb_1990_2000)"
   ]
  },
  {
   "cell_type": "code",
   "execution_count": 47,
   "metadata": {},
   "outputs": [
    {
     "data": {
      "image/png": "[encoded data removed]",
      "text/plain": [
       "<Figure size 1000x600 with 1 Axes>"
      ]
     },
     "metadata": {},
     "output_type": "display_data"
    }
   ],
   "source": [
    "import numpy as np\n",
    "import matplotlib.pyplot as plt\n",
    "\n",
    "# Data\n",
    "categories = ['After 2010', '2000-2010', '1990-2000']\n",
    "pass_median_box_office = [40176042.0, 43408033.0, 61055139.0]\n",
    "fail_median_box_office = [109666692.5, 83792062.0, 67235581.0]\n",
    "\n",
    "# Adjust the position of the bars\n",
    "bar_width = 0.35\n",
    "index = np.arange(len(categories))\n",
    "\n",
    "# Plotting\n",
    "plt.figure(figsize=(10, 6))\n",
    "plt.bar(index - bar_width/2, pass_median_box_office, bar_width, color='lightblue', label='Passing the Test')\n",
    "plt.bar(index + bar_width/2, fail_median_box_office, bar_width, color='salmon', label='Failing the Test', alpha=0.7)\n",
    "\n",
    "# Labels and title\n",
    "plt.xlabel('Time Period')\n",
    "plt.ylabel('Median Box Office Earnings')\n",
    "plt.title('Comparison of Median Box Office Earnings for Movies Passing and Failing the Bechdel Test')\n",
    "plt.xticks(index, categories)\n",
    "plt.legend()\n",
    "\n",
    "# Show plot\n",
    "plt.show()\n"
   ]
  },
  {
   "cell_type": "code",
   "execution_count": 48,
   "metadata": {},
   "outputs": [
    {
     "data": {
      "image/png": "[encoded data removed]",
      "text/plain": [
       "<Figure size 1000x600 with 1 Axes>"
      ]
     },
     "metadata": {},
     "output_type": "display_data"
    }
   ],
   "source": [
    "# Data\n",
    "pass_median_imdb = [1431181.0, 382189.0, 118661.0]\n",
    "fail_median_imdb = [1351685.0, 386140.0, 117858.0]\n",
    "\n",
    "# Plotting\n",
    "plt.figure(figsize=(10, 6))\n",
    "plt.bar(index - bar_width/2, pass_median_imdb, bar_width, color='lightblue', label='Passing the Test')\n",
    "plt.bar(index + bar_width/2, fail_median_imdb, bar_width, color='salmon', label='Failing the Test', alpha=0.7)\n",
    "\n",
    "# Labels and title\n",
    "plt.xlabel('Time Period')\n",
    "plt.ylabel('Median IMDB Rating')\n",
    "plt.title('Comparison of Median IMDB Rating for Movies Passing and Failing the Bechdel Test')\n",
    "plt.xticks(index, categories)\n",
    "plt.legend()\n",
    "\n",
    "# Show plot\n",
    "plt.show()"
   ]
  }
 ],
 "metadata": {
  "kernelspec": {
   "display_name": "Python 3",
   "language": "python",
   "name": "python3"
  },
  "language_info": {
   "codemirror_mode": {
    "name": "ipython",
    "version": 3
   },
   "file_extension": ".py",
   "mimetype": "text/x-python",
   "name": "python",
   "nbconvert_exporter": "python",
   "pygments_lexer": "ipython3",
   "version": "3.11.5"
  }
 },
 "nbformat": 4,
 "nbformat_minor": 2
}
